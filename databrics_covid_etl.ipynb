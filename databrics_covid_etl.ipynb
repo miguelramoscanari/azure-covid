{
  "cells": [
    {
      "cell_type": "code",
      "source": [
        "from pyspark.sql.types import *\r\n",
        "from pyspark.sql.functions import concat, col, lit, sum, avg, max, min, count, udf\r\n",
        "import pyspark.sql.functions as F"
      ],
      "outputs": [
        {
          "output_type": "display_data",
          "data": {
            "application/vnd.livy.statement-meta+json": {
              "spark_pool": "sparktaxidata",
              "session_id": "36",
              "statement_id": 3,
              "state": "finished",
              "livy_statement_state": "available",
              "queued_time": "2023-11-24T16:11:09.0575919Z",
              "session_start_time": null,
              "execution_start_time": "2023-11-24T16:11:09.1955607Z",
              "execution_finish_time": "2023-11-24T16:11:09.3514638Z",
              "spark_jobs": null,
              "parent_msg_id": "0d4c05bc-29a4-45c2-9edc-9e5ed4c61363"
            },
            "text/plain": "StatementMeta(sparktaxidata, 36, 3, Finished, Available)"
          },
          "metadata": {}
        }
      ],
      "execution_count": 77,
      "metadata": {
        "jupyter": {
          "source_hidden": false,
          "outputs_hidden": false
        },
        "nteract": {
          "transient": {
            "deleting": false
          }
        }
      }
    },
    {
      "cell_type": "code",
      "source": [
        "from io import StringIO\r\n",
        "import pandas as pd\r\n",
        "import requests\r\n",
        "\r\n",
        "headers = {'User-Agent': 'Mozilla/5.0 (Windows NT 6.1; WOW64) AppleWebKit/537.36 (KHTML, like Gecko) Chrome/56.0.2924.76 Safari/537.36'}"
      ],
      "outputs": [
        {
          "output_type": "display_data",
          "data": {
            "application/vnd.livy.statement-meta+json": {
              "spark_pool": "sparktaxidata",
              "session_id": "36",
              "statement_id": 4,
              "state": "finished",
              "livy_statement_state": "available",
              "queued_time": "2023-11-24T16:11:09.1144497Z",
              "session_start_time": null,
              "execution_start_time": "2023-11-24T16:11:09.5244036Z",
              "execution_finish_time": "2023-11-24T16:11:16.4185991Z",
              "spark_jobs": null,
              "parent_msg_id": "978f3228-d018-4dd7-aa2d-8547e140f545"
            },
            "text/plain": "StatementMeta(sparktaxidata, 36, 4, Finished, Available)"
          },
          "metadata": {}
        }
      ],
      "execution_count": 78,
      "metadata": {}
    },
    {
      "cell_type": "markdown",
      "source": [
        "# ACCEDIENDO A LA DATA"
      ],
      "metadata": {
        "nteract": {
          "transient": {
            "deleting": false
          }
        }
      }
    },
    {
      "cell_type": "code",
      "source": [
        "# LEER FALLECIDOS POR COVID\r\n",
        "url = 'https://files.minsa.gob.pe/s/t9AFqRbXw3F55Ho/download'\r\n",
        "s = requests.get(url, headers= headers).text\r\n",
        "data = StringIO(s)\r\n",
        "pd_df = pd.read_csv(data, sep=\";\", encoding='utf_8', dtype = 'str')\r\n",
        "\r\n",
        "pd_df.dropna(subset=['DEPARTAMENTO','PROVINCIA', 'UBIGEO', 'DISTRITO', \"EDAD_DECLARADA\", \"FECHA_FALLECIMIENTO\"], inplace=True)\r\n",
        "pd_df = pd_df.rename(str.lower, axis='columns')\r\n",
        "\r\n",
        "df_fall = spark.createDataFrame(pd_df)\r\n",
        "df_fall.show(5)"
      ],
      "outputs": [
        {
          "output_type": "display_data",
          "data": {
            "application/vnd.livy.statement-meta+json": {
              "spark_pool": "sparktaxidata",
              "session_id": "36",
              "statement_id": 5,
              "state": "finished",
              "livy_statement_state": "available",
              "queued_time": "2023-11-24T16:11:09.1855298Z",
              "session_start_time": null,
              "execution_start_time": "2023-11-24T16:11:16.5964992Z",
              "execution_finish_time": "2023-11-24T16:11:43.6569561Z",
              "spark_jobs": null,
              "parent_msg_id": "54204626-245b-44a4-9630-222d48130418"
            },
            "text/plain": "StatementMeta(sparktaxidata, 36, 5, Finished, Available)"
          },
          "metadata": {}
        },
        {
          "output_type": "stream",
          "name": "stderr",
          "text": [
            "/opt/spark/python/lib/pyspark.zip/pyspark/sql/pandas/conversion.py:604: FutureWarning: iteritems is deprecated and will be removed in a future version. Use .items instead.\n"
          ]
        },
        {
          "output_type": "stream",
          "name": "stdout",
          "text": [
            "+-----------+-------------------+--------------+---------+--------------------+------------+---------+--------------------+------+----------+\n|fecha_corte|fecha_fallecimiento|edad_declarada|     sexo|   clasificacion_def|departamento|provincia|            distrito|ubigeo|id_persona|\n+-----------+-------------------+--------------+---------+--------------------+------------+---------+--------------------+------+----------+\n|   20231114|           20210611|            21|MASCULINO|    Criterio SINADEF|  LAMBAYEQUE| CHICLAYO|            CHICLAYO|140101|  24833991|\n|   20231114|           20210317|            45|MASCULINO|Criterio serolÃ³gico|       PIURA|  SULLANA|             SULLANA|200601|  24761117|\n|   20231114|           20210602|            62| FEMENINO|Criterio virolÃ³gico|         ICA|    PISCO|        SAN CLEMENTE|110507|  24767070|\n|   20231114|           20210703|            75|MASCULINO|Criterio virolÃ³gico|    AREQUIPA| AREQUIPA|          MIRAFLORES|040110|  24751741|\n|   20231114|           20210506|            66| FEMENINO|Criterio virolÃ³gico|        LIMA|     LIMA|SAN JUAN DE LURIG...|150132|  24671820|\n+-----------+-------------------+--------------+---------+--------------------+------------+---------+--------------------+------+----------+\nonly showing top 5 rows\n\n"
          ]
        }
      ],
      "execution_count": 79,
      "metadata": {
        "jupyter": {
          "source_hidden": false,
          "outputs_hidden": false
        },
        "nteract": {
          "transient": {
            "deleting": false
          }
        },
        "collapsed": false
      }
    },
    {
      "cell_type": "code",
      "source": [
        "# LEER POSITIVOS POR COVID\r\n",
        "url = 'https://files.minsa.gob.pe/s/eRqxR35ZCxrzNgr/download'\r\n",
        "s = requests.get(url, headers= headers).text\r\n",
        "data = StringIO(s)\r\n",
        "pd_df = pd.read_csv(data, sep=\";\", encoding='utf_8', dtype = 'str')\r\n",
        "\r\n",
        "pd_df.dropna(subset=['DEPARTAMENTO','PROVINCIA', 'UBIGEO', 'DISTRITO', \"EDAD\",\"FECHA_RESULTADO\"], inplace=True)\r\n",
        "pd_df = pd_df.rename(str.lower, axis='columns')\r\n",
        "\r\n",
        "df_posi = spark.createDataFrame(pd_df)\r\n",
        "df_posi.show(5)"
      ],
      "outputs": [
        {
          "output_type": "display_data",
          "data": {
            "application/vnd.livy.statement-meta+json": {
              "spark_pool": "sparktaxidata",
              "session_id": "36",
              "statement_id": 6,
              "state": "finished",
              "livy_statement_state": "available",
              "queued_time": "2023-11-24T16:11:09.3136417Z",
              "session_start_time": null,
              "execution_start_time": "2023-11-24T16:11:43.8464059Z",
              "execution_finish_time": "2023-11-24T16:13:03.6844088Z",
              "spark_jobs": null,
              "parent_msg_id": "ff2d4ede-35aa-426c-963b-3f2e7e9ff9f6"
            },
            "text/plain": "StatementMeta(sparktaxidata, 36, 6, Finished, Available)"
          },
          "metadata": {}
        },
        {
          "output_type": "stream",
          "name": "stderr",
          "text": [
            "/opt/spark/python/lib/pyspark.zip/pyspark/sql/pandas/conversion.py:604: FutureWarning: iteritems is deprecated and will be removed in a future version. Use .items instead.\n"
          ]
        },
        {
          "output_type": "stream",
          "name": "stdout",
          "text": [
            "+-----------+------------+---------+--------------------+--------+----+---------+---------------+------+----------+\n|fecha_corte|departamento|provincia|            distrito|metododx|edad|     sexo|fecha_resultado|ubigeo|id_persona|\n+-----------+------------+---------+--------------------+--------+----+---------+---------------+------+----------+\n|   20211213|        LIMA|     LIMA|SAN MARTIN DE PORRES|      PR|  25|MASCULINO|       20201217|150135|  24662153|\n|   20211213|         ICA|    PISCO|               PISCO|      PR|  20| FEMENINO|       20200822|110501|  24662175|\n|   20211213|     HUANUCO|  HUANUCO|             HUANUCO|      PR|  22| FEMENINO|       20200729|100101|  24662197|\n|   20211213|      ANCASH|    SANTA|               SANTA|      AG|  18| FEMENINO|       20210630|021808|  24662204|\n|   20211213|      ANCASH|    SANTA|      NUEVO CHIMBOTE|      AG|  17|MASCULINO|       20210404|021809|  24662207|\n+-----------+------------+---------+--------------------+--------+----+---------+---------------+------+----------+\nonly showing top 5 rows\n\n"
          ]
        }
      ],
      "execution_count": 80,
      "metadata": {
        "jupyter": {
          "source_hidden": false,
          "outputs_hidden": false
        },
        "nteract": {
          "transient": {
            "deleting": false
          }
        },
        "collapsed": false
      }
    },
    {
      "cell_type": "code",
      "source": [
        "# LEER COVID MUNDIAL\r\n",
        "url = 'https://covid.ourworldindata.org/data/owid-covid-data.csv'\r\n",
        "s = requests.get(url, headers= headers).text\r\n",
        "data = StringIO(s)\r\n",
        "pd_df = pd.read_csv(data, sep=\",\", encoding='utf_8')\r\n",
        "pd_df = pd_df.rename(str.lower, axis='columns')\r\n",
        "\r\n",
        "df_mund = spark.createDataFrame(pd_df)\r\n",
        "display(df_mund.limit(5))"
      ],
      "outputs": [
        {
          "output_type": "display_data",
          "data": {
            "application/vnd.livy.statement-meta+json": {
              "spark_pool": "sparktaxidata",
              "session_id": "36",
              "statement_id": 7,
              "state": "finished",
              "livy_statement_state": "available",
              "queued_time": "2023-11-24T16:11:09.4403936Z",
              "session_start_time": null,
              "execution_start_time": "2023-11-24T16:13:03.8265574Z",
              "execution_finish_time": "2023-11-24T16:13:16.4724166Z",
              "spark_jobs": null,
              "parent_msg_id": "443150e6-8753-4308-a5dc-303b7ae28ccf"
            },
            "text/plain": "StatementMeta(sparktaxidata, 36, 7, Finished, Available)"
          },
          "metadata": {}
        },
        {
          "output_type": "stream",
          "name": "stderr",
          "text": [
            "/opt/spark/python/lib/pyspark.zip/pyspark/sql/pandas/conversion.py:604: FutureWarning: iteritems is deprecated and will be removed in a future version. Use .items instead.\n"
          ]
        },
        {
          "output_type": "display_data",
          "data": {
            "application/vnd.synapse.widget-view+json": {
              "widget_id": "026b142a-b4d0-499c-bd5e-ec03b9db4da6",
              "widget_type": "Synapse.DataFrame"
            },
            "text/plain": "SynapseWidget(Synapse.DataFrame, 026b142a-b4d0-499c-bd5e-ec03b9db4da6)"
          },
          "metadata": {}
        }
      ],
      "execution_count": 81,
      "metadata": {
        "jupyter": {
          "source_hidden": false,
          "outputs_hidden": false
        },
        "nteract": {
          "transient": {
            "deleting": false
          }
        },
        "collapsed": false
      }
    },
    {
      "cell_type": "code",
      "source": [
        "# LEER DEPARTAMENTOS\r\n",
        "pd_df = pd.read_excel('abfss://covid@mksynapsedatalake.dfs.core.windows.net/raw_data/departamentos.xlsx')\r\n",
        "pd_df = pd_df.rename(str.lower, axis='columns')\r\n",
        "\r\n",
        "df_dep = spark.createDataFrame(pd_df)\r\n",
        "df_dep.show(5)"
      ],
      "outputs": [
        {
          "output_type": "display_data",
          "data": {
            "application/vnd.livy.statement-meta+json": {
              "spark_pool": "sparktaxidata",
              "session_id": "36",
              "statement_id": 8,
              "state": "finished",
              "livy_statement_state": "available",
              "queued_time": "2023-11-24T16:11:09.5893892Z",
              "session_start_time": null,
              "execution_start_time": "2023-11-24T16:13:16.612362Z",
              "execution_finish_time": "2023-11-24T16:13:23.5162164Z",
              "spark_jobs": null,
              "parent_msg_id": "a08404ce-698a-47af-8453-c5d75c2300d1"
            },
            "text/plain": "StatementMeta(sparktaxidata, 36, 8, Finished, Available)"
          },
          "metadata": {}
        },
        {
          "output_type": "stream",
          "name": "stderr",
          "text": [
            "/opt/spark/python/lib/pyspark.zip/pyspark/sql/pandas/conversion.py:604: FutureWarning: iteritems is deprecated and will be removed in a future version. Use .items instead.\n"
          ]
        },
        {
          "output_type": "stream",
          "name": "stdout",
          "text": [
            "+----+--------+------------+----------------+\n|pais|paiscode|departamento|departamentocode|\n+----+--------+------------+----------------+\n|PERU|      PE|    AMAZONAS|          PE-AMA|\n|PERU|      PE|      ANCASH|          PE-ANC|\n|PERU|      PE|    APURIMAC|          PE-APU|\n|PERU|      PE|    AREQUIPA|          PE-ARE|\n|PERU|      PE|    AYACUCHO|          PE-AYA|\n+----+--------+------------+----------------+\nonly showing top 5 rows\n\n"
          ]
        }
      ],
      "execution_count": 82,
      "metadata": {
        "jupyter": {
          "source_hidden": false,
          "outputs_hidden": false
        },
        "nteract": {
          "transient": {
            "deleting": false
          }
        },
        "collapsed": false
      }
    },
    {
      "cell_type": "markdown",
      "source": [
        "image.png"
      ],
      "metadata": {
        "nteract": {
          "transient": {
            "deleting": false
          }
        }
      }
    },
    {
      "cell_type": "markdown",
      "source": [
        "# Transformacion"
      ],
      "metadata": {
        "nteract": {
          "transient": {
            "deleting": false
          }
        }
      }
    },
    {
      "cell_type": "code",
      "source": [
        "# -----------------------------------------------------------------\r\n",
        "# ETL DE FALLECIDOS POR COVID\r\n",
        "# -----------------------------------------------------------------\r\n",
        "df_fal = df_fall\r\n",
        "\r\n",
        "# CAMBIANDO EL CAMPO EDAD A TIPO INTEGER, DARLE FORMATO AAAA-MM-01\r\n",
        "df_fal = df_fal.withColumn(\"edad_declarada\", col(\"edad_declarada\").cast(\"integer\"))\r\n",
        "df_fal = df_fal.withColumn(\"fecha_fallecimiento\", concat(col(\"fecha_fallecimiento\").substr(1,4), lit(\"-\"), col(\"fecha_fallecimiento\").substr(5,2), lit(\"-01\")))\r\n",
        "\r\n",
        "# HALLANDO 'etapa_de_vida'\r\n",
        "df_fal = df_fal.withColumn(\"etapa_de_vida\", udf(lambda x: 'NIÑO' if x<=9 else ('ADOLESCENTE' if x<=19 else ('JOVEN' if x<=29 else ('ADULTO' if x<=59 else 'MAYOR'))))(\"edad_declarada\"))\r\n",
        "\r\n",
        "# JOIN ENTRE DATAFRAME FALLECIDOS Y DEPARTAMENTOS\r\n",
        "# Y CREANDO DATAFRAME FALLECIDOS POR SEXO Y ETAPA DE VIDA Y POR DIA\r\n",
        "df_fallecido = df_fal.join(df_dep, df_fal.departamento == df_dep.departamento, \"left\") \\\r\n",
        "    .select(df_dep.departamentocode, df_fal.fecha_fallecimiento.alias(\"fecha\"), df_fal.sexo, df_fal.etapa_de_vida) \\\r\n",
        "    .groupBy(df_dep.departamentocode, \"fecha\", df_fal.sexo, df_fal.etapa_de_vida,) \\\r\n",
        "    .agg(count(df_dep.departamentocode).alias(\"cantidad\")) \\\r\n",
        "    .orderBy(df_dep.departamentocode, \"fecha\", df_fal.sexo,  ascending = True)\r\n",
        "    \r\n",
        "df_fallecido.show(5)"
      ],
      "outputs": [
        {
          "output_type": "display_data",
          "data": {
            "application/vnd.livy.statement-meta+json": {
              "spark_pool": "sparktaxidata",
              "session_id": "36",
              "statement_id": 9,
              "state": "finished",
              "livy_statement_state": "available",
              "queued_time": "2023-11-24T16:11:09.7256799Z",
              "session_start_time": null,
              "execution_start_time": "2023-11-24T16:13:23.6920583Z",
              "execution_finish_time": "2023-11-24T16:13:38.4212771Z",
              "spark_jobs": null,
              "parent_msg_id": "5029e2f9-2f65-485f-b7ec-7d99e70307ec"
            },
            "text/plain": "StatementMeta(sparktaxidata, 36, 9, Finished, Available)"
          },
          "metadata": {}
        },
        {
          "output_type": "stream",
          "name": "stdout",
          "text": [
            "+----------------+----------+---------+-------------+--------+\n|departamentocode|     fecha|     sexo|etapa_de_vida|cantidad|\n+----------------+----------+---------+-------------+--------+\n|          PE-AMA|2020-04-01| FEMENINO|        MAYOR|       1|\n|          PE-AMA|2020-04-01|MASCULINO|  ADOLESCENTE|       1|\n|          PE-AMA|2020-05-01| FEMENINO|        MAYOR|       2|\n|          PE-AMA|2020-05-01| FEMENINO|       ADULTO|       5|\n|          PE-AMA|2020-05-01| FEMENINO|  ADOLESCENTE|       2|\n+----------------+----------+---------+-------------+--------+\nonly showing top 5 rows\n\n"
          ]
        }
      ],
      "execution_count": 83,
      "metadata": {
        "jupyter": {
          "source_hidden": false,
          "outputs_hidden": false
        },
        "nteract": {
          "transient": {
            "deleting": false
          }
        }
      }
    },
    {
      "cell_type": "code",
      "source": [
        "# -----------------------------------------------------------------\r\n",
        "# ETL DE POSITIVOS POR COVID\r\n",
        "# -----------------------------------------------------------------\r\n",
        "df_pos = df_posi\r\n",
        "\r\n",
        "# CAMBIANDO EL CAMPO EDAD A TIPO INTEGER, DARLE FORMATO AAAA-MM-01\r\n",
        "df_pos = df_pos.withColumn(\"edad\", col(\"edad\").cast(\"integer\"))\r\n",
        "df_pos = df_pos.withColumn(\"fecha_resultado\", concat(col(\"fecha_resultado\").substr(1,4), lit(\"-\"), col(\"fecha_resultado\").substr(5,2), lit(\"-01\")))\r\n",
        "\r\n",
        "# HALLANDO 'etapa_de_vida'\r\n",
        "df_pos = df_pos.withColumn(\"etapa_de_vida\", udf(lambda x: 'NIÑO' if x<=9 else ('ADOLESCENTE' if x<=19 else ('JOVEN' if x<=29 else ('ADULTO' if x<=59 else 'MAYOR'))))(\"edad\"))\r\n",
        "\r\n",
        "# JOIN ENTRE DATAFRAME FALLECIDOS Y DEPARTAMENTOS\r\n",
        "# Y CREANDO DATAFRAME FALLECIDOS POR SEXO Y ETAPA DE VIDA Y POR DIA\r\n",
        "df_positivo = df_pos.join(df_dep, df_pos.departamento == df_dep.departamento, \"left\") \\\r\n",
        "    .select(df_dep.departamentocode, df_pos.fecha_resultado.alias(\"fecha\"), df_pos.sexo, df_pos.etapa_de_vida) \\\r\n",
        "    .groupBy(df_dep.departamentocode, \"fecha\", df_pos.sexo, df_pos.etapa_de_vida,) \\\r\n",
        "    .agg(count(df_dep.departamentocode).alias(\"cantidad\")) \\\r\n",
        "    .orderBy(df_dep.departamentocode, \"fecha\", df_pos.sexo,  ascending = True)\r\n",
        "    \r\n",
        "df_positivo.show(5)"
      ],
      "outputs": [
        {
          "output_type": "display_data",
          "data": {
            "application/vnd.livy.statement-meta+json": {
              "spark_pool": "sparktaxidata",
              "session_id": "36",
              "statement_id": 10,
              "state": "finished",
              "livy_statement_state": "available",
              "queued_time": "2023-11-24T16:11:09.8357266Z",
              "session_start_time": null,
              "execution_start_time": "2023-11-24T16:13:38.5788304Z",
              "execution_finish_time": "2023-11-24T16:13:47.234829Z",
              "spark_jobs": null,
              "parent_msg_id": "32a78dc0-500e-467c-8397-07a41f4079a1"
            },
            "text/plain": "StatementMeta(sparktaxidata, 36, 10, Finished, Available)"
          },
          "metadata": {}
        },
        {
          "output_type": "stream",
          "name": "stdout",
          "text": [
            "+----------------+----------+--------+-------------+--------+\n|departamentocode|     fecha|    sexo|etapa_de_vida|cantidad|\n+----------------+----------+--------+-------------+--------+\n|          PE-AMA|2020-04-01|FEMENINO|        JOVEN|      14|\n|          PE-AMA|2020-04-01|FEMENINO|        MAYOR|       9|\n|          PE-AMA|2020-04-01|FEMENINO|         NIÑO|       6|\n|          PE-AMA|2020-04-01|FEMENINO|  ADOLESCENTE|       3|\n|          PE-AMA|2020-04-01|FEMENINO|       ADULTO|      50|\n+----------------+----------+--------+-------------+--------+\nonly showing top 5 rows\n\n"
          ]
        }
      ],
      "execution_count": 84,
      "metadata": {
        "jupyter": {
          "source_hidden": false,
          "outputs_hidden": false
        },
        "nteract": {
          "transient": {
            "deleting": false
          }
        }
      }
    },
    {
      "cell_type": "code",
      "source": [
        "# -----------------------------------------------------------------\r\n",
        "# JOIN DE POSITIVOS Y FALLECIDOS POR COVID\r\n",
        "# -----------------------------------------------------------------\r\n",
        "\r\n",
        "df_covid = df_positivo.join(df_fallecido, [\"departamentocode\",\"fecha\", \"sexo\", \"etapa_de_vida\"], \"left\") \\\r\n",
        "    .select(df_positivo.departamentocode, df_positivo.fecha, df_positivo.sexo, df_positivo.etapa_de_vida, df_positivo.cantidad, df_fallecido.cantidad) \\\r\n",
        "    .groupBy(df_positivo.departamentocode, df_positivo.fecha, df_positivo.sexo, df_positivo.etapa_de_vida) \\\r\n",
        "    .agg(sum(df_positivo.cantidad).alias(\"positivo\"), sum(df_fallecido.cantidad).alias(\"fallecido\") ) \\\r\n",
        "    .orderBy(df_positivo.departamentocode, df_positivo.fecha, df_positivo.sexo,  ascending = True)\r\n",
        "\r\n",
        "df_covid = df_covid.fillna(value=0,subset=[\"fallecido\"])\r\n",
        "df_covid.show(5)"
      ],
      "outputs": [
        {
          "output_type": "display_data",
          "data": {
            "application/vnd.livy.statement-meta+json": {
              "spark_pool": "sparktaxidata",
              "session_id": "36",
              "statement_id": 11,
              "state": "finished",
              "livy_statement_state": "available",
              "queued_time": "2023-11-24T16:11:09.9329065Z",
              "session_start_time": null,
              "execution_start_time": "2023-11-24T16:13:47.415584Z",
              "execution_finish_time": "2023-11-24T16:13:56.1582526Z",
              "spark_jobs": null,
              "parent_msg_id": "425f8104-37cc-471a-a527-56eaab1cde4d"
            },
            "text/plain": "StatementMeta(sparktaxidata, 36, 11, Finished, Available)"
          },
          "metadata": {}
        },
        {
          "output_type": "stream",
          "name": "stdout",
          "text": [
            "+----------------+----------+--------+-------------+--------+---------+\n|departamentocode|     fecha|    sexo|etapa_de_vida|positivo|fallecido|\n+----------------+----------+--------+-------------+--------+---------+\n|          PE-AMA|2020-04-01|FEMENINO|        JOVEN|      14|        0|\n|          PE-AMA|2020-04-01|FEMENINO|        MAYOR|       9|        1|\n|          PE-AMA|2020-04-01|FEMENINO|         NIÑO|       6|        0|\n|          PE-AMA|2020-04-01|FEMENINO|  ADOLESCENTE|       3|        0|\n|          PE-AMA|2020-04-01|FEMENINO|       ADULTO|      50|        0|\n+----------------+----------+--------+-------------+--------+---------+\nonly showing top 5 rows\n\n"
          ]
        }
      ],
      "execution_count": 85,
      "metadata": {
        "jupyter": {
          "source_hidden": false,
          "outputs_hidden": false
        },
        "nteract": {
          "transient": {
            "deleting": false
          }
        }
      }
    },
    {
      "cell_type": "code",
      "source": [
        "# -----------------------------------------------------------------\r\n",
        "# ETL MUNDIAL COVID\r\n",
        "# -----------------------------------------------------------------\r\n",
        "df_mun = df_mund\r\n",
        "\r\n",
        "# CAMBIANDO FECHA DARLE FORMATO AAAA-MM-01\r\n",
        "df_mun = df_mun.withColumn(\"date\", concat(col(\"date\").substr(1,7), lit(\"-01\")))\r\n",
        "\r\n",
        "# CAMBIANDO TIPO DATA ENTERO\r\n",
        "df_mun = df_mun.withColumn(\"new_cases\", col(\"new_cases\").cast(\"integer\"))\r\n",
        "df_mun = df_mun.withColumn(\"new_deaths\", col(\"new_deaths\").cast(\"integer\"))\r\n",
        "\r\n",
        "# RENOMBRANDO CAMPOS PARA FACILIDAD DE LECTURA\r\n",
        "df_mun = df_mun.withColumnRenamed(\"iso_code\",\"paisCode\") \\\r\n",
        "    .withColumnRenamed(\"location\",\"pais\") \\\r\n",
        "    .withColumnRenamed(\"continent\",\"continente\") \\\r\n",
        "    .withColumnRenamed(\"date\",\"fecha\")\r\n",
        "\r\n",
        "# AGRUPANDO PARA CREAR TABLE HECHOS COVID MUNDIAL\r\n",
        "df_covid_mundial = df_mun.groupBy(df_mun.paisCode, df_mun.fecha) \\\r\n",
        "    .agg(sum(df_mun.new_cases).alias(\"positivo\"), sum(df_mun.new_deaths).alias(\"fallecido\") ) \\\r\n",
        "    .orderBy(df_mun.paisCode, df_mun.fecha, ascending = True)\r\n",
        "\r\n",
        "df_covid_mundial.show(5)\r\n",
        "\r\n",
        "# CREANDO DIMENSION PAIS\r\n",
        "df_pais = df_mun.groupBy(df_mun.paisCode, df_mun.pais, df_mun.continente) \\\r\n",
        "    .agg(count(df_mun.paisCode).alias(\"cantidad\")) \\\r\n",
        "    .orderBy(df_mun.paisCode, ascending = True)\r\n",
        "df_pais = df_pais.select(df_pais.paisCode, df_pais.pais, df_pais.continente)"
      ],
      "outputs": [
        {
          "output_type": "display_data",
          "data": {
            "application/vnd.livy.statement-meta+json": {
              "spark_pool": "sparktaxidata",
              "session_id": "36",
              "statement_id": 25,
              "state": "finished",
              "livy_statement_state": "available",
              "queued_time": "2023-11-24T16:22:35.5681644Z",
              "session_start_time": null,
              "execution_start_time": "2023-11-24T16:22:35.6945336Z",
              "execution_finish_time": "2023-11-24T16:22:38.4656466Z",
              "spark_jobs": null,
              "parent_msg_id": "7b46f7af-64e5-4a30-83f0-855483ed5175"
            },
            "text/plain": "StatementMeta(sparktaxidata, 36, 25, Finished, Available)"
          },
          "metadata": {}
        },
        {
          "output_type": "stream",
          "name": "stdout",
          "text": [
            "+--------+----------+--------+---------+\n|paisCode|     fecha|positivo|fallecido|\n+--------+----------+--------+---------+\n|     ABW|2020-01-01|       0|        0|\n|     ABW|2020-02-01|       0|        0|\n|     ABW|2020-03-01|      50|        0|\n|     ABW|2020-04-01|      50|        2|\n|     ABW|2020-05-01|       1|        1|\n+--------+----------+--------+---------+\nonly showing top 5 rows\n\n"
          ]
        }
      ],
      "execution_count": 99,
      "metadata": {
        "jupyter": {
          "source_hidden": false,
          "outputs_hidden": false
        },
        "nteract": {
          "transient": {
            "deleting": false
          }
        }
      }
    },
    {
      "cell_type": "code",
      "source": [
        "# -----------------------------------------------------------------\r\n",
        "# ETL CREANDO DIMENSION CALENDARIO\r\n",
        "# -----------------------------------------------------------------\r\n",
        "\r\n",
        "# HALLANDO FECHA MAXIMA\r\n",
        "fec_max1 = df_covid.select(max(df_covid.fecha)).collect()[0]['max(fecha)']\r\n",
        "fec_max2 = df_covid_mundial.select(max(df_covid_mundial.fecha)).collect()[0]['max(fecha)']\r\n",
        "fec_max =  fec_max1 if fec_max1 > fec_max2 else fec_max2\r\n",
        "fec_max = pd.to_datetime(fec_max).date()\r\n",
        "\r\n",
        "# HALLANDO FECHA MINIMA\r\n",
        "fec_min1 = df_covid.select(min(df_covid.fecha)).collect()[0]['min(fecha)']\r\n",
        "fec_min2 = df_covid_mundial.select(min(df_covid_mundial.fecha)).collect()[0]['min(fecha)']\r\n",
        "\r\n",
        "fec_min =  fec_min1 if fec_min1 > fec_min2 else fec_min2\r\n",
        "fec_min = pd.to_datetime(fec_min).date()\r\n",
        "\r\n",
        "mes_dict = {\r\n",
        "    i + 1: mes\r\n",
        "    for i, mes in enumerate(['Enero', 'Febrero', 'Marzo', 'Abril', 'Mayo', 'Junio', 'Julio', 'Agosto', 'Setiembre', 'Octubre', 'Noviembre', 'Diciembre'])\r\n",
        "}\r\n",
        "\r\n",
        "df_calendario = pd.DataFrame({'fecha': pd.date_range(fec_min, fec_max)})\r\n",
        "df_calendario['Año'] = df_calendario.fecha.dt.year\r\n",
        "df_calendario['Trimestre'] = df_calendario.fecha.dt.quarter.map(lambda x :  'Trim. ' + str(x))\r\n",
        "df_calendario['Mes'] = df_calendario.fecha.dt.month.map(lambda x: mes_dict[x])\r\n",
        "df_calendario['Dia'] = df_calendario.fecha.dt.day\r\n",
        "df_calendario['AñoMes'] = df_calendario.fecha.astype('string').str[:4] + df_calendario.fecha.astype('string').str[5:7]\r\n",
        "\r\n",
        "df_calendario = spark.createDataFrame(df_calendario)\r\n",
        "df_calendario.show(5)"
      ],
      "outputs": [
        {
          "output_type": "display_data",
          "data": {
            "application/vnd.livy.statement-meta+json": {
              "spark_pool": "sparktaxidata",
              "session_id": "36",
              "statement_id": 13,
              "state": "finished",
              "livy_statement_state": "available",
              "queued_time": "2023-11-24T16:11:10.1276089Z",
              "session_start_time": null,
              "execution_start_time": "2023-11-24T16:14:00.5274942Z",
              "execution_finish_time": "2023-11-24T16:14:19.9860634Z",
              "spark_jobs": null,
              "parent_msg_id": "7f2277dd-e23f-41f5-80ab-c563f2ab3771"
            },
            "text/plain": "StatementMeta(sparktaxidata, 36, 13, Finished, Available)"
          },
          "metadata": {}
        },
        {
          "output_type": "stream",
          "name": "stderr",
          "text": [
            "/opt/spark/python/lib/pyspark.zip/pyspark/sql/pandas/conversion.py:604: FutureWarning: iteritems is deprecated and will be removed in a future version. Use .items instead.\n"
          ]
        },
        {
          "output_type": "stream",
          "name": "stdout",
          "text": [
            "+-------------------+----+---------+-----+---+------+\n|              fecha| Año|Trimestre|  Mes|Dia|AñoMes|\n+-------------------+----+---------+-----+---+------+\n|2020-03-01 00:00:00|2020|  Trim. 1|Marzo|  1|202003|\n|2020-03-02 00:00:00|2020|  Trim. 1|Marzo|  2|202003|\n|2020-03-03 00:00:00|2020|  Trim. 1|Marzo|  3|202003|\n|2020-03-04 00:00:00|2020|  Trim. 1|Marzo|  4|202003|\n|2020-03-05 00:00:00|2020|  Trim. 1|Marzo|  5|202003|\n+-------------------+----+---------+-----+---+------+\nonly showing top 5 rows\n\n"
          ]
        }
      ],
      "execution_count": 87,
      "metadata": {
        "jupyter": {
          "source_hidden": false,
          "outputs_hidden": false
        },
        "nteract": {
          "transient": {
            "deleting": false
          }
        }
      }
    },
    {
      "cell_type": "code",
      "source": [
        "# -----------------------------------------------------------------\r\n",
        "# ETL CREANDO DIMENSION DEPARTAMENTO\r\n",
        "# -----------------------------------------------------------------\r\n",
        "\r\n",
        "# EN POWER BI, EN GRAFICO TIPO MAPAS, PARA QUE IDENTIFICA UN DEPARTAMENTO DE UN PAIS ES \r\n",
        "# NECESARIO CREAR UN CAMPO CON FORMATO >> DEPARTAMENTO (DEPARTAMENTO), (PAIS)\r\n",
        "df_dep = df_dep.withColumn(\"departamentoPais\", concat(lit(\"DEPARTAMENTO \"), col(\"departamento\"), lit(\", PERU\")) )"
      ],
      "outputs": [
        {
          "output_type": "display_data",
          "data": {
            "application/vnd.livy.statement-meta+json": {
              "spark_pool": "sparktaxidata",
              "session_id": "36",
              "statement_id": 14,
              "state": "finished",
              "livy_statement_state": "available",
              "queued_time": "2023-11-24T16:11:10.2033227Z",
              "session_start_time": null,
              "execution_start_time": "2023-11-24T16:14:20.1392507Z",
              "execution_finish_time": "2023-11-24T16:14:20.308261Z",
              "spark_jobs": null,
              "parent_msg_id": "b3870fc3-a627-45c5-8360-68f2f152cf71"
            },
            "text/plain": "StatementMeta(sparktaxidata, 36, 14, Finished, Available)"
          },
          "metadata": {}
        }
      ],
      "execution_count": 88,
      "metadata": {
        "jupyter": {
          "source_hidden": false,
          "outputs_hidden": false
        },
        "nteract": {
          "transient": {
            "deleting": false
          }
        }
      }
    },
    {
      "cell_type": "markdown",
      "source": [
        "# Load CSV"
      ],
      "metadata": {
        "nteract": {
          "transient": {
            "deleting": false
          }
        }
      }
    },
    {
      "cell_type": "code",
      "source": [
        "df_covid.repartition(1).write.mode(\"overwrite\").option(\"header\", \"true\").csv(\"abfss://covid@mksynapsedatalake.dfs.core.windows.net/transformed_data/covid\")\r\n",
        "df_covid_mundial.repartition(1).write.mode(\"overwrite\").option(\"header\", \"true\").csv(\"abfss://covid@mksynapsedatalake.dfs.core.windows.net/transformed_data/covid_mundial\")\r\n",
        "df_pais.repartition(1).write.mode(\"overwrite\").option(\"header\", \"true\").csv(\"abfss://covid@mksynapsedatalake.dfs.core.windows.net/transformed_data/dim_pais\")\r\n",
        "df_dep.repartition(1).write.mode(\"overwrite\").option(\"header\", \"true\").csv(\"abfss://covid@mksynapsedatalake.dfs.core.windows.net/transformed_data/dim_departamento\")\r\n",
        "df_calendario.repartition(1).write.mode(\"overwrite\").option(\"header\", \"true\").csv(\"abfss://covid@mksynapsedatalake.dfs.core.windows.net/transformed_data/dim_calendario\")"
      ],
      "outputs": [
        {
          "output_type": "display_data",
          "data": {
            "application/vnd.livy.statement-meta+json": {
              "spark_pool": "sparktaxidata",
              "session_id": "36",
              "statement_id": 27,
              "state": "finished",
              "livy_statement_state": "available",
              "queued_time": "2023-11-24T16:22:52.6545328Z",
              "session_start_time": null,
              "execution_start_time": "2023-11-24T16:22:52.7790101Z",
              "execution_finish_time": "2023-11-24T16:23:09.5229174Z",
              "spark_jobs": null,
              "parent_msg_id": "c04e04fe-ddf0-4341-b2cd-b6eb53e929d3"
            },
            "text/plain": "StatementMeta(sparktaxidata, 36, 27, Finished, Available)"
          },
          "metadata": {}
        }
      ],
      "execution_count": 101,
      "metadata": {
        "jupyter": {
          "source_hidden": false,
          "outputs_hidden": false
        },
        "nteract": {
          "transient": {
            "deleting": false
          }
        }
      }
    },
    {
      "cell_type": "markdown",
      "source": [
        "# Load Azure SQL DB"
      ],
      "metadata": {
        "nteract": {
          "transient": {
            "deleting": false
          }
        }
      }
    },
    {
      "cell_type": "code",
      "source": [
        "#Detalles del connection string\r\n",
        "logicalServername = \"mkdatafactory.database.windows.net\"\r\n",
        "databaseName = \"covidsql\"\r\n",
        "userName = \"mkadmin@mkdatafactory\"\r\n",
        "password = \"\" # Please specify password here\r\n",
        "jdbcUrl = \"jdbc:sqlserver://{0}:{1};database={2}\".format(logicalServername, 1433, databaseName)\r\n",
        "connectionProperties = {\r\n",
        "  \"user\" : userName,\r\n",
        "  \"password\" : password,\r\n",
        "  \"driver\" : \"com.microsoft.sqlserver.jdbc.SQLServerDriver\"\r\n",
        "}"
      ],
      "outputs": [
        {
          "output_type": "display_data",
          "data": {
            "application/vnd.livy.statement-meta+json": {
              "spark_pool": "sparktaxidata",
              "session_id": "36",
              "statement_id": 16,
              "state": "finished",
              "livy_statement_state": "available",
              "queued_time": "2023-11-24T16:11:10.3525159Z",
              "session_start_time": null,
              "execution_start_time": "2023-11-24T16:14:55.2119406Z",
              "execution_finish_time": "2023-11-24T16:14:55.4015569Z",
              "spark_jobs": null,
              "parent_msg_id": "e0aac633-a8a4-416c-a777-4f090faa2e84"
            },
            "text/plain": "StatementMeta(sparktaxidata, 36, 16, Finished, Available)"
          },
          "metadata": {}
        }
      ],
      "execution_count": 90,
      "metadata": {
        "jupyter": {
          "source_hidden": false,
          "outputs_hidden": false
        },
        "nteract": {
          "transient": {
            "deleting": false
          }
        }
      }
    },
    {
      "cell_type": "code",
      "source": [
        "#Creando schema, usado para crear el DataFrame\r\n",
        "dim_departamento_schema = StructType([\r\n",
        "    StructField(\"pais\", StringType()),\r\n",
        "    StructField(\"paiscode\", StringType()),\r\n",
        "    StructField(\"departamento\", StringType()),\r\n",
        "    StructField(\"departamentocode\", StringType()),\r\n",
        "    StructField(\"departamentoPais\", StringType())\r\n",
        "])\r\n",
        "\r\n",
        "dim_pais_schema = StructType([\r\n",
        "    StructField(\"paisCode\", StringType()),\r\n",
        "    StructField(\"pais\", StringType()),\r\n",
        "    StructField(\"continente\", StringType())\r\n",
        "])\r\n",
        "\r\n",
        "dim_calendario_schema = StructType([\r\n",
        "    StructField(\"fecha\", DateType()),\r\n",
        "    StructField(\"Año\", StringType()),\r\n",
        "    StructField(\"Trimestre\", StringType()),\r\n",
        "    StructField(\"Mes\", StringType()),\r\n",
        "    StructField(\"Dia\", StringType()),\r\n",
        "    StructField(\"AñoMes\", StringType())\r\n",
        "])\r\n",
        "\r\n",
        "covid_schema = StructType([\r\n",
        "    StructField(\"departamentocode\", StringType()),\r\n",
        "    StructField(\"fecha\", DateType()),\r\n",
        "    StructField(\"sexo\", StringType()),\r\n",
        "    StructField(\"etapa_de_vida\", StringType()),\r\n",
        "    StructField(\"positivo\", IntegerType()),\r\n",
        "    StructField(\"fallecido\", IntegerType())\r\n",
        "])\r\n",
        "\r\n",
        "covid_mundial_schema = StructType([\r\n",
        "    StructField(\"paisCode\", StringType()),\r\n",
        "    StructField(\"fecha\", DateType()),\r\n",
        "    StructField(\"positivo\", IntegerType()),\r\n",
        "    StructField(\"fallecido\", IntegerType())\r\n",
        "])\r\n",
        "\r\n",
        "\r\n",
        "# Load csv files en un DataFrame. Este Dataframe sera usado para escribir en table Azure SQL DB\r\n",
        "dim_departamento= spark.read.format(\"csv\").option(\"header\",True).schema(dim_departamento_schema).load(\"abfss://covid@mksynapsedatalake.dfs.core.windows.net/transformed_data/dim_departamento/\")\r\n",
        "dim_pais= spark.read.format(\"csv\").option(\"header\",True).schema(dim_pais_schema).load(\"abfss://covid@mksynapsedatalake.dfs.core.windows.net/transformed_data/dim_pais/\")\r\n",
        "dim_calendario= spark.read.format(\"csv\").option(\"header\",True).schema(dim_calendario_schema).load(\"abfss://covid@mksynapsedatalake.dfs.core.windows.net/transformed_data/dim_calendario/\")\r\n",
        "covid= spark.read.format(\"csv\").option(\"header\",True).schema(covid_schema).load(\"abfss://covid@mksynapsedatalake.dfs.core.windows.net/transformed_data/covid/\")\r\n",
        "covid_mundial= spark.read.format(\"csv\").option(\"header\",True).schema(covid_mundial_schema).load(\"abfss://covid@mksynapsedatalake.dfs.core.windows.net/transformed_data/covid_mundial/\")\r\n"
      ],
      "outputs": [
        {
          "output_type": "display_data",
          "data": {
            "application/vnd.livy.statement-meta+json": {
              "spark_pool": "sparktaxidata",
              "session_id": "36",
              "statement_id": 28,
              "state": "finished",
              "livy_statement_state": "available",
              "queued_time": "2023-11-24T16:23:15.074697Z",
              "session_start_time": null,
              "execution_start_time": "2023-11-24T16:23:15.2165402Z",
              "execution_finish_time": "2023-11-24T16:23:15.7357575Z",
              "spark_jobs": null,
              "parent_msg_id": "8b645323-516f-4e0c-883c-bb171202f7ab"
            },
            "text/plain": "StatementMeta(sparktaxidata, 36, 28, Finished, Available)"
          },
          "metadata": {}
        }
      ],
      "execution_count": 102,
      "metadata": {
        "jupyter": {
          "source_hidden": false,
          "outputs_hidden": false
        },
        "nteract": {
          "transient": {
            "deleting": false
          }
        },
        "collapsed": false
      }
    },
    {
      "cell_type": "code",
      "source": [
        "\r\n",
        "# Escribir el Dataframe en table Azure SQL DB\r\n",
        "dim_departamento.write.jdbc(jdbcUrl,  \r\n",
        "                   mode =\"overwrite\", # overwrite append\r\n",
        "                   table=\"dim_departamento\", \r\n",
        "                   properties=connectionProperties)\r\n",
        "\r\n",
        "dim_pais.write.jdbc(jdbcUrl,  \r\n",
        "                   mode =\"overwrite\", # overwrite append\r\n",
        "                   table=\"dim_pais\", \r\n",
        "                   properties=connectionProperties)\r\n",
        "\r\n",
        "dim_calendario.write.jdbc(jdbcUrl,  \r\n",
        "                   mode =\"overwrite\", # overwrite append\r\n",
        "                   table=\"dim_calendario\", \r\n",
        "                   properties=connectionProperties)\r\n",
        "\r\n",
        "covid.write.jdbc(jdbcUrl,  \r\n",
        "                   mode =\"overwrite\", # overwrite append\r\n",
        "                   table=\"covid\", \r\n",
        "                   properties=connectionProperties)\r\n",
        "\r\n",
        "covid_mundial.write.jdbc(jdbcUrl,  \r\n",
        "                   mode =\"overwrite\", # overwrite append\r\n",
        "                   table=\"covid_mundial\", \r\n",
        "                   properties=connectionProperties)"
      ],
      "outputs": [
        {
          "output_type": "display_data",
          "data": {
            "application/vnd.livy.statement-meta+json": {
              "spark_pool": "sparktaxidata",
              "session_id": "36",
              "statement_id": 19,
              "state": "finished",
              "livy_statement_state": "available",
              "queued_time": "2023-11-24T16:11:10.551303Z",
              "session_start_time": null,
              "execution_start_time": "2023-11-24T16:14:58.8964623Z",
              "execution_finish_time": "2023-11-24T16:15:25.9417905Z",
              "spark_jobs": null,
              "parent_msg_id": "0dacb4fd-6234-47ce-b367-de17ed57d28f"
            },
            "text/plain": "StatementMeta(sparktaxidata, 36, 19, Finished, Available)"
          },
          "metadata": {}
        }
      ],
      "execution_count": 93,
      "metadata": {
        "jupyter": {
          "source_hidden": false,
          "outputs_hidden": false
        },
        "nteract": {
          "transient": {
            "deleting": false
          }
        }
      }
    }
  ],
  "metadata": {
    "kernelspec": {
      "name": "synapse_pyspark",
      "language": "Python",
      "display_name": "Synapse PySpark"
    },
    "language_info": {
      "name": "python"
    },
    "kernel_info": {
      "name": "synapse_pyspark"
    },
    "description": null,
    "save_output": true,
    "synapse_widget": {
      "version": "0.1",
      "state": {
        "026b142a-b4d0-499c-bd5e-ec03b9db4da6": {
          "type": "Synapse.DataFrame",
          "sync_state": {
            "table": {
              "rows": [
                {
                  "0": "AFG",
                  "1": "Asia",
                  "2": "Afghanistan",
                  "3": "2020-01-03",
                  "5": "0.0",
                  "8": "0.0",
                  "11": "0.0",
                  "14": "0.0",
                  "47": "0.0",
                  "48": "54.422",
                  "49": "18.6",
                  "50": "2.581",
                  "51": "1.337",
                  "52": "1803.987",
                  "54": "597.029",
                  "55": "9.59",
                  "58": "37.746",
                  "59": "0.5",
                  "60": "64.83",
                  "61": "0.511",
                  "62": "4.1128772E7"
                },
                {
                  "0": "AFG",
                  "1": "Asia",
                  "2": "Afghanistan",
                  "3": "2020-01-04",
                  "5": "0.0",
                  "8": "0.0",
                  "11": "0.0",
                  "14": "0.0",
                  "47": "0.0",
                  "48": "54.422",
                  "49": "18.6",
                  "50": "2.581",
                  "51": "1.337",
                  "52": "1803.987",
                  "54": "597.029",
                  "55": "9.59",
                  "58": "37.746",
                  "59": "0.5",
                  "60": "64.83",
                  "61": "0.511",
                  "62": "4.1128772E7"
                },
                {
                  "0": "AFG",
                  "1": "Asia",
                  "2": "Afghanistan",
                  "3": "2020-01-05",
                  "5": "0.0",
                  "8": "0.0",
                  "11": "0.0",
                  "14": "0.0",
                  "47": "0.0",
                  "48": "54.422",
                  "49": "18.6",
                  "50": "2.581",
                  "51": "1.337",
                  "52": "1803.987",
                  "54": "597.029",
                  "55": "9.59",
                  "58": "37.746",
                  "59": "0.5",
                  "60": "64.83",
                  "61": "0.511",
                  "62": "4.1128772E7"
                },
                {
                  "0": "AFG",
                  "1": "Asia",
                  "2": "Afghanistan",
                  "3": "2020-01-06",
                  "5": "0.0",
                  "8": "0.0",
                  "11": "0.0",
                  "14": "0.0",
                  "47": "0.0",
                  "48": "54.422",
                  "49": "18.6",
                  "50": "2.581",
                  "51": "1.337",
                  "52": "1803.987",
                  "54": "597.029",
                  "55": "9.59",
                  "58": "37.746",
                  "59": "0.5",
                  "60": "64.83",
                  "61": "0.511",
                  "62": "4.1128772E7"
                },
                {
                  "0": "AFG",
                  "1": "Asia",
                  "2": "Afghanistan",
                  "3": "2020-01-07",
                  "5": "0.0",
                  "8": "0.0",
                  "11": "0.0",
                  "14": "0.0",
                  "47": "0.0",
                  "48": "54.422",
                  "49": "18.6",
                  "50": "2.581",
                  "51": "1.337",
                  "52": "1803.987",
                  "54": "597.029",
                  "55": "9.59",
                  "58": "37.746",
                  "59": "0.5",
                  "60": "64.83",
                  "61": "0.511",
                  "62": "4.1128772E7"
                }
              ],
              "schema": [
                {
                  "key": "0",
                  "name": "iso_code",
                  "type": "string"
                },
                {
                  "key": "1",
                  "name": "continent",
                  "type": "string"
                },
                {
                  "key": "2",
                  "name": "location",
                  "type": "string"
                },
                {
                  "key": "3",
                  "name": "date",
                  "type": "string"
                },
                {
                  "key": "4",
                  "name": "total_cases",
                  "type": "double"
                },
                {
                  "key": "5",
                  "name": "new_cases",
                  "type": "double"
                },
                {
                  "key": "6",
                  "name": "new_cases_smoothed",
                  "type": "double"
                },
                {
                  "key": "7",
                  "name": "total_deaths",
                  "type": "double"
                },
                {
                  "key": "8",
                  "name": "new_deaths",
                  "type": "double"
                },
                {
                  "key": "9",
                  "name": "new_deaths_smoothed",
                  "type": "double"
                },
                {
                  "key": "10",
                  "name": "total_cases_per_million",
                  "type": "double"
                },
                {
                  "key": "11",
                  "name": "new_cases_per_million",
                  "type": "double"
                },
                {
                  "key": "12",
                  "name": "new_cases_smoothed_per_million",
                  "type": "double"
                },
                {
                  "key": "13",
                  "name": "total_deaths_per_million",
                  "type": "double"
                },
                {
                  "key": "14",
                  "name": "new_deaths_per_million",
                  "type": "double"
                },
                {
                  "key": "15",
                  "name": "new_deaths_smoothed_per_million",
                  "type": "double"
                },
                {
                  "key": "16",
                  "name": "reproduction_rate",
                  "type": "double"
                },
                {
                  "key": "17",
                  "name": "icu_patients",
                  "type": "double"
                },
                {
                  "key": "18",
                  "name": "icu_patients_per_million",
                  "type": "double"
                },
                {
                  "key": "19",
                  "name": "hosp_patients",
                  "type": "double"
                },
                {
                  "key": "20",
                  "name": "hosp_patients_per_million",
                  "type": "double"
                },
                {
                  "key": "21",
                  "name": "weekly_icu_admissions",
                  "type": "double"
                },
                {
                  "key": "22",
                  "name": "weekly_icu_admissions_per_million",
                  "type": "double"
                },
                {
                  "key": "23",
                  "name": "weekly_hosp_admissions",
                  "type": "double"
                },
                {
                  "key": "24",
                  "name": "weekly_hosp_admissions_per_million",
                  "type": "double"
                },
                {
                  "key": "25",
                  "name": "total_tests",
                  "type": "double"
                },
                {
                  "key": "26",
                  "name": "new_tests",
                  "type": "double"
                },
                {
                  "key": "27",
                  "name": "total_tests_per_thousand",
                  "type": "double"
                },
                {
                  "key": "28",
                  "name": "new_tests_per_thousand",
                  "type": "double"
                },
                {
                  "key": "29",
                  "name": "new_tests_smoothed",
                  "type": "double"
                },
                {
                  "key": "30",
                  "name": "new_tests_smoothed_per_thousand",
                  "type": "double"
                },
                {
                  "key": "31",
                  "name": "positive_rate",
                  "type": "double"
                },
                {
                  "key": "32",
                  "name": "tests_per_case",
                  "type": "double"
                },
                {
                  "key": "33",
                  "name": "tests_units",
                  "type": "string"
                },
                {
                  "key": "34",
                  "name": "total_vaccinations",
                  "type": "double"
                },
                {
                  "key": "35",
                  "name": "people_vaccinated",
                  "type": "double"
                },
                {
                  "key": "36",
                  "name": "people_fully_vaccinated",
                  "type": "double"
                },
                {
                  "key": "37",
                  "name": "total_boosters",
                  "type": "double"
                },
                {
                  "key": "38",
                  "name": "new_vaccinations",
                  "type": "double"
                },
                {
                  "key": "39",
                  "name": "new_vaccinations_smoothed",
                  "type": "double"
                },
                {
                  "key": "40",
                  "name": "total_vaccinations_per_hundred",
                  "type": "double"
                },
                {
                  "key": "41",
                  "name": "people_vaccinated_per_hundred",
                  "type": "double"
                },
                {
                  "key": "42",
                  "name": "people_fully_vaccinated_per_hundred",
                  "type": "double"
                },
                {
                  "key": "43",
                  "name": "total_boosters_per_hundred",
                  "type": "double"
                },
                {
                  "key": "44",
                  "name": "new_vaccinations_smoothed_per_million",
                  "type": "double"
                },
                {
                  "key": "45",
                  "name": "new_people_vaccinated_smoothed",
                  "type": "double"
                },
                {
                  "key": "46",
                  "name": "new_people_vaccinated_smoothed_per_hundred",
                  "type": "double"
                },
                {
                  "key": "47",
                  "name": "stringency_index",
                  "type": "double"
                },
                {
                  "key": "48",
                  "name": "population_density",
                  "type": "double"
                },
                {
                  "key": "49",
                  "name": "median_age",
                  "type": "double"
                },
                {
                  "key": "50",
                  "name": "aged_65_older",
                  "type": "double"
                },
                {
                  "key": "51",
                  "name": "aged_70_older",
                  "type": "double"
                },
                {
                  "key": "52",
                  "name": "gdp_per_capita",
                  "type": "double"
                },
                {
                  "key": "53",
                  "name": "extreme_poverty",
                  "type": "double"
                },
                {
                  "key": "54",
                  "name": "cardiovasc_death_rate",
                  "type": "double"
                },
                {
                  "key": "55",
                  "name": "diabetes_prevalence",
                  "type": "double"
                },
                {
                  "key": "56",
                  "name": "female_smokers",
                  "type": "double"
                },
                {
                  "key": "57",
                  "name": "male_smokers",
                  "type": "double"
                },
                {
                  "key": "58",
                  "name": "handwashing_facilities",
                  "type": "double"
                },
                {
                  "key": "59",
                  "name": "hospital_beds_per_thousand",
                  "type": "double"
                },
                {
                  "key": "60",
                  "name": "life_expectancy",
                  "type": "double"
                },
                {
                  "key": "61",
                  "name": "human_development_index",
                  "type": "double"
                },
                {
                  "key": "62",
                  "name": "population",
                  "type": "double"
                },
                {
                  "key": "63",
                  "name": "excess_mortality_cumulative_absolute",
                  "type": "double"
                },
                {
                  "key": "64",
                  "name": "excess_mortality_cumulative",
                  "type": "double"
                },
                {
                  "key": "65",
                  "name": "excess_mortality",
                  "type": "double"
                },
                {
                  "key": "66",
                  "name": "excess_mortality_cumulative_per_million",
                  "type": "double"
                }
              ],
              "truncated": false
            },
            "isSummary": false,
            "language": "scala"
          },
          "persist_state": {
            "view": {
              "type": "details",
              "tableOptions": {},
              "chartOptions": {
                "chartType": "bar",
                "aggregationType": "sum",
                "categoryFieldKeys": [
                  "0"
                ],
                "seriesFieldKeys": [
                  "4"
                ],
                "isStacked": false
              }
            }
          }
        }
      }
    }
  },
  "nbformat": 4,
  "nbformat_minor": 2
}
